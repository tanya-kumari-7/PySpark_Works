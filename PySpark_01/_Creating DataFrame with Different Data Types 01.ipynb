{
 "cells": [
  {
   "cell_type": "code",
   "execution_count": 1,
   "id": "f51bce00-0539-4444-8b2d-71cef00c189c",
   "metadata": {},
   "outputs": [],
   "source": [
    "from pyspark.sql import SparkSession"
   ]
  },
  {
   "cell_type": "code",
   "execution_count": 3,
   "id": "6e633233-6ae2-4026-98cb-d8b7d78768d3",
   "metadata": {},
   "outputs": [],
   "source": [
    "from pyspark.sql.types import StructType, StructField ,StringType,IntegerType"
   ]
  },
  {
   "cell_type": "code",
   "execution_count": 4,
   "id": "d92c00d8-7f78-459d-a778-351e2b89c787",
   "metadata": {},
   "outputs": [],
   "source": [
    "spark = SparkSession.builder.appName (\"Create DF\").getOrCreate()"
   ]
  },
  {
   "cell_type": "code",
   "execution_count": 7,
   "id": "33a39542-34ad-4633-8bf3-49ef9744ee01",
   "metadata": {},
   "outputs": [],
   "source": [
    "schema = StructType(\n",
    "    [StructField(\"name\",StringType(),True),\n",
    "    StructField(\"Age\",IntegerType(),True),\n",
    "    StructField(\"City\",StringType(),True) ]\n",
    ")"
   ]
  },
  {
   "cell_type": "code",
   "execution_count": 8,
   "id": "17db8574-da7c-424f-b54f-f8c694cb5451",
   "metadata": {},
   "outputs": [],
   "source": [
    "data = [\n",
    "    (\"sonam\",20,\"punjab\"),\n",
    "     (\"sonam1\",20,\"punjab\"),\n",
    "     (\"sonam2\",20,\"punjab\"),\n",
    "     (\"sonam3\",20,\"punjab\"),\n",
    "     (\"sonam4\",20,\"punjab\"),\n",
    "]"
   ]
  },
  {
   "cell_type": "code",
   "execution_count": 9,
   "id": "33007efe-6edf-4d6f-9a63-2fdca2b0ee8f",
   "metadata": {},
   "outputs": [],
   "source": [
    "df = spark.createDataFrame(data,schema)"
   ]
  },
  {
   "cell_type": "code",
   "execution_count": 10,
   "id": "c814251d-4151-4a9d-9eb2-8392b2556ef6",
   "metadata": {},
   "outputs": [
    {
     "name": "stdout",
     "output_type": "stream",
     "text": [
      "+------+---+------+\n",
      "|  name|Age|  City|\n",
      "+------+---+------+\n",
      "| sonam| 20|punjab|\n",
      "|sonam1| 20|punjab|\n",
      "|sonam2| 20|punjab|\n",
      "|sonam3| 20|punjab|\n",
      "|sonam4| 20|punjab|\n",
      "+------+---+------+\n",
      "\n"
     ]
    }
   ],
   "source": [
    "df.show()"
   ]
  },
  {
   "cell_type": "code",
   "execution_count": 12,
   "id": "53303633-b29b-48b4-8ed9-3768c1ded2b1",
   "metadata": {},
   "outputs": [
    {
     "data": {
      "text/plain": [
       "[Row(name='sonam', Age=20, City='punjab'),\n",
       " Row(name='sonam1', Age=20, City='punjab')]"
      ]
     },
     "execution_count": 12,
     "metadata": {},
     "output_type": "execute_result"
    }
   ],
   "source": [
    "df.head(2)"
   ]
  },
  {
   "cell_type": "code",
   "execution_count": 13,
   "id": "1ed18cb9-41f3-4a7c-8764-58abf29ba7df",
   "metadata": {},
   "outputs": [
    {
     "data": {
      "text/plain": [
       "[Row(name='sonam2', Age=20, City='punjab'),\n",
       " Row(name='sonam3', Age=20, City='punjab'),\n",
       " Row(name='sonam4', Age=20, City='punjab')]"
      ]
     },
     "execution_count": 13,
     "metadata": {},
     "output_type": "execute_result"
    }
   ],
   "source": [
    "df.tail(3)"
   ]
  },
  {
   "cell_type": "code",
   "execution_count": 16,
   "id": "321c6b9a-879b-4816-8d29-5cb9be78dbb8",
   "metadata": {},
   "outputs": [
    {
     "name": "stdout",
     "output_type": "stream",
     "text": [
      "root\n",
      " |-- name: string (nullable = true)\n",
      " |-- Age: integer (nullable = true)\n",
      " |-- City: string (nullable = true)\n",
      "\n"
     ]
    }
   ],
   "source": [
    "df.printSchema()"
   ]
  },
  {
   "cell_type": "code",
   "execution_count": 17,
   "id": "43f96895-adb0-447c-bbbe-3f3e2b0c3bca",
   "metadata": {},
   "outputs": [],
   "source": [
    "data2 = [\n",
    "    {\"Name\":\"sonam\",\"Age\":20,\"City\":\"punjab\"},\n",
    "     {\"Name\":\"sonam1\",\"Age\":20,\"City\":\"punjab\"},\n",
    "     {\"Name\":\"sonam2\",\"Age\":20,\"City\":\"punjab\"},\n",
    "     {\"Name\":\"sonam3\",\"Age\":20,\"City\":\"punjab\"},\n",
    "     {\"Name\":\"sonam4\",\"Age\":20,\"City\":\"punjab\"},\n",
    "]"
   ]
  },
  {
   "cell_type": "code",
   "execution_count": 18,
   "id": "c6d9d363-d408-4330-94b1-5d2303282d46",
   "metadata": {},
   "outputs": [],
   "source": [
    "df2= spark.createDataFrame(data=data2)"
   ]
  },
  {
   "cell_type": "code",
   "execution_count": 19,
   "id": "4766077a-af24-46f5-976f-e69bf97e4093",
   "metadata": {},
   "outputs": [
    {
     "name": "stdout",
     "output_type": "stream",
     "text": [
      "+---+------+------+\n",
      "|Age|  City|  Name|\n",
      "+---+------+------+\n",
      "| 20|punjab| sonam|\n",
      "| 20|punjab|sonam1|\n",
      "| 20|punjab|sonam2|\n",
      "| 20|punjab|sonam3|\n",
      "| 20|punjab|sonam4|\n",
      "+---+------+------+\n",
      "\n"
     ]
    }
   ],
   "source": [
    "df2.show()"
   ]
  },
  {
   "cell_type": "code",
   "execution_count": 20,
   "id": "9bad2e22-9927-4def-b65b-1d63451434b7",
   "metadata": {},
   "outputs": [
    {
     "name": "stdout",
     "output_type": "stream",
     "text": [
      "root\n",
      " |-- Age: long (nullable = true)\n",
      " |-- City: string (nullable = true)\n",
      " |-- Name: string (nullable = true)\n",
      "\n"
     ]
    }
   ],
   "source": [
    "df2.printSchema()"
   ]
  },
  {
   "cell_type": "code",
   "execution_count": null,
   "id": "8948ba6a-3647-4305-bb48-b76e016a2acd",
   "metadata": {},
   "outputs": [],
   "source": []
  }
 ],
 "metadata": {
  "kernelspec": {
   "display_name": "Python 3 (ipykernel)",
   "language": "python",
   "name": "python3"
  },
  "language_info": {
   "codemirror_mode": {
    "name": "ipython",
    "version": 3
   },
   "file_extension": ".py",
   "mimetype": "text/x-python",
   "name": "python",
   "nbconvert_exporter": "python",
   "pygments_lexer": "ipython3",
   "version": "3.11.6"
  }
 },
 "nbformat": 4,
 "nbformat_minor": 5
}
