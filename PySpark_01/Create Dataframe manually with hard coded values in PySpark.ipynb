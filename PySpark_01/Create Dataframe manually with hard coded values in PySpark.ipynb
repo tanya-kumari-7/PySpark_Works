{
 "cells": [
  {
   "cell_type": "code",
   "execution_count": 3,
   "id": "7b5ca8e2-fc24-4fe9-a38f-873f01703e0c",
   "metadata": {},
   "outputs": [],
   "source": [
    "from pyspark.sql import SparkSession"
   ]
  },
  {
   "cell_type": "code",
   "execution_count": 8,
   "id": "c2341d9c-465b-4ff8-80e7-4396c0400adc",
   "metadata": {},
   "outputs": [],
   "source": [
    "from pyspark.sql.types import StructType,StructField,StringType,IntegerType"
   ]
  },
  {
   "cell_type": "code",
   "execution_count": 13,
   "id": "bb2e459d-3cc8-43f2-8f1d-5a57d7676144",
   "metadata": {},
   "outputs": [],
   "source": [
    "spark =SparkSession.builder.appName (\"Create DataFrame\").getOrCreate()"
   ]
  },
  {
   "cell_type": "code",
   "execution_count": 18,
   "id": "62dc7b90-c668-4bc8-972a-f46c5ec14f40",
   "metadata": {},
   "outputs": [],
   "source": [
    "schema = StructType(\n",
    "    [\n",
    "        StructField(\"Name\",StringType(),True),\n",
    "        StructField(\"Age\",IntegerType(),True),\n",
    "        StructField(\"City\",StringType(),True)\n",
    "    ]\n",
    ")"
   ]
  },
  {
   "cell_type": "code",
   "execution_count": 19,
   "id": "c2883cd4-1538-48be-8c1a-54fa38f73c0d",
   "metadata": {},
   "outputs": [],
   "source": [
    "data = [\n",
    "    (\"sonam\",25,\"Sitapur\"),\n",
    "    (\"Moni\",30,\"Rampur\"),\n",
    "    (\"shanu\",35,\"sherpur\")\n",
    "]"
   ]
  },
  {
   "cell_type": "code",
   "execution_count": 20,
   "id": "3a9437e7-6c97-495b-9e1d-2a052b1df7ee",
   "metadata": {},
   "outputs": [],
   "source": [
    "df = spark.createDataFrame(data,schema)"
   ]
  },
  {
   "cell_type": "code",
   "execution_count": 21,
   "id": "54c4181b-342b-495e-9413-c92bd7abb2c3",
   "metadata": {},
   "outputs": [
    {
     "name": "stdout",
     "output_type": "stream",
     "text": [
      "+-----+---+-------+\n",
      "| Name|Age|   City|\n",
      "+-----+---+-------+\n",
      "|sonam| 25|Sitapur|\n",
      "| Moni| 30| Rampur|\n",
      "|shanu| 35|sherpur|\n",
      "+-----+---+-------+\n",
      "\n"
     ]
    }
   ],
   "source": [
    "df.show()"
   ]
  }
 ],
 "metadata": {
  "kernelspec": {
   "display_name": "Python 3 (ipykernel)",
   "language": "python",
   "name": "python3"
  },
  "language_info": {
   "codemirror_mode": {
    "name": "ipython",
    "version": 3
   },
   "file_extension": ".py",
   "mimetype": "text/x-python",
   "name": "python",
   "nbconvert_exporter": "python",
   "pygments_lexer": "ipython3",
   "version": "3.11.6"
  }
 },
 "nbformat": 4,
 "nbformat_minor": 5
}
