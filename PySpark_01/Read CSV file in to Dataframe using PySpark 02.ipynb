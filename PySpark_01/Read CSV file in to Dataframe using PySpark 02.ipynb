{
 "cells": [
  {
   "cell_type": "markdown",
   "id": "55d42a4f-bbf0-4b21-b6d3-180728dada5e",
   "metadata": {},
   "source": [
    "# Create a spark DataFrame"
   ]
  },
  {
   "cell_type": "code",
   "execution_count": 3,
   "id": "c10c4067-ca1b-4267-9574-68bff8db0155",
   "metadata": {},
   "outputs": [],
   "source": [
    "from pyspark.sql.session import SparkSession\n",
    "s"
   ]
  },
  {
   "cell_type": "code",
   "execution_count": 8,
   "id": "4e8073ab-3a01-4c5d-8323-6da44d9ace20",
   "metadata": {},
   "outputs": [],
   "source": [
    "from pyspark.sql.types import StructField,IntegerType,StringType,StructType"
   ]
  },
  {
   "cell_type": "code",
   "execution_count": 7,
   "id": "64399d41-9a6b-4fe9-a3cb-4c60c2a46b75",
   "metadata": {},
   "outputs": [],
   "source": [
    "spark = SparkSession.builder.appName(\"Create Data Frame\").getOrCreate()"
   ]
  },
  {
   "cell_type": "code",
   "execution_count": 9,
   "id": "eddd6a0d-3ec9-47d0-983e-07713a4f1135",
   "metadata": {},
   "outputs": [],
   "source": [
    "schema = StructType([\n",
    "        StructField(\"Name\",StringType(),True),\n",
    "        StructField(\"Age\",IntegerType(),True),\n",
    "        StructField(\"City\",StringType(),True)\n",
    "])"
   ]
  },
  {
   "cell_type": "code",
   "execution_count": 10,
   "id": "f6c9cc1f-aa81-435b-8560-f423a3069319",
   "metadata": {},
   "outputs": [],
   "source": [
    "Data = [\n",
    "    (\"sonam\",25,\"Sitapur\"),\n",
    "    (\"Moni\",30,\"Rampur\"),\n",
    "    (\"shanu\",35,\"sherpur\")\n",
    "]"
   ]
  },
  {
   "cell_type": "code",
   "execution_count": 14,
   "id": "aca0b736-4bd0-463d-a38e-25e9a80997a6",
   "metadata": {},
   "outputs": [],
   "source": [
    "df = spark.createDataFrame(Data,schema)"
   ]
  },
  {
   "cell_type": "code",
   "execution_count": 15,
   "id": "0e2b8b03-bf3c-45ce-860f-98999129886f",
   "metadata": {},
   "outputs": [
    {
     "name": "stdout",
     "output_type": "stream",
     "text": [
      "+-----+---+-------+\n",
      "| Name|Age|   City|\n",
      "+-----+---+-------+\n",
      "|sonam| 25|Sitapur|\n",
      "| Moni| 30| Rampur|\n",
      "|shanu| 35|sherpur|\n",
      "+-----+---+-------+\n",
      "\n"
     ]
    }
   ],
   "source": [
    "df.show()"
   ]
  },
  {
   "cell_type": "code",
   "execution_count": 16,
   "id": "a334a6fe-8684-43a2-a5ba-890b388a483f",
   "metadata": {},
   "outputs": [
    {
     "data": {
      "text/plain": [
       "[Row(Name='sonam', Age=25, City='Sitapur'),\n",
       " Row(Name='Moni', Age=30, City='Rampur')]"
      ]
     },
     "execution_count": 16,
     "metadata": {},
     "output_type": "execute_result"
    }
   ],
   "source": [
    "df.head(2)"
   ]
  },
  {
   "cell_type": "code",
   "execution_count": 17,
   "id": "4a8fca09-6685-4fce-b206-dc806c2eca01",
   "metadata": {},
   "outputs": [
    {
     "data": {
      "text/plain": [
       "[Row(Name='Moni', Age=30, City='Rampur'),\n",
       " Row(Name='shanu', Age=35, City='sherpur')]"
      ]
     },
     "execution_count": 17,
     "metadata": {},
     "output_type": "execute_result"
    }
   ],
   "source": [
    "df.tail(2)"
   ]
  },
  {
   "cell_type": "code",
   "execution_count": 18,
   "id": "ac7944b7-990f-4ac3-8a99-006886aab4f3",
   "metadata": {},
   "outputs": [
    {
     "name": "stdout",
     "output_type": "stream",
     "text": [
      "root\n",
      " |-- Name: string (nullable = true)\n",
      " |-- Age: integer (nullable = true)\n",
      " |-- City: string (nullable = true)\n",
      "\n"
     ]
    }
   ],
   "source": [
    "df.printSchema()"
   ]
  },
  {
   "cell_type": "code",
   "execution_count": 19,
   "id": "867fd833-60af-46e4-b336-a12fb10baa3e",
   "metadata": {},
   "outputs": [],
   "source": [
    "data2 = [\n",
    "    {\"Name\":\"sonam\",\"Age\":20,\"City\":\"punjab\"},\n",
    "     {\"Name\":\"sonam1\",\"Age\":20,\"City\":\"punjab\"},\n",
    "     {\"Name\":\"sonam2\",\"Age\":20,\"City\":\"punjab\"},\n",
    "     {\"Name\":\"sonam3\",\"Age\":20,\"City\":\"punjab\"},\n",
    "     {\"Name\":\"sonam4\",\"Age\":20,\"City\":\"punjab\"},\n",
    "]"
   ]
  },
  {
   "cell_type": "code",
   "execution_count": 20,
   "id": "6cf5cee9-8afe-41f6-84c5-27495dcdb66a",
   "metadata": {},
   "outputs": [
    {
     "name": "stdout",
     "output_type": "stream",
     "text": [
      "[{'Name': 'sonam', 'Age': 20, 'City': 'punjab'}, {'Name': 'sonam1', 'Age': 20, 'City': 'punjab'}, {'Name': 'sonam2', 'Age': 20, 'City': 'punjab'}, {'Name': 'sonam3', 'Age': 20, 'City': 'punjab'}, {'Name': 'sonam4', 'Age': 20, 'City': 'punjab'}]\n"
     ]
    }
   ],
   "source": [
    "print(data2)"
   ]
  },
  {
   "cell_type": "code",
   "execution_count": 21,
   "id": "3b64b9fb-9a5a-43fd-b786-5d37d7962b5a",
   "metadata": {},
   "outputs": [],
   "source": [
    "df2 = spark.createDataFrame(data2)"
   ]
  },
  {
   "cell_type": "code",
   "execution_count": 22,
   "id": "b5fcb7f0-93a6-480f-adc1-392402d1c31d",
   "metadata": {},
   "outputs": [
    {
     "name": "stdout",
     "output_type": "stream",
     "text": [
      "+---+------+------+\n",
      "|Age|  City|  Name|\n",
      "+---+------+------+\n",
      "| 20|punjab| sonam|\n",
      "| 20|punjab|sonam1|\n",
      "| 20|punjab|sonam2|\n",
      "| 20|punjab|sonam3|\n",
      "| 20|punjab|sonam4|\n",
      "+---+------+------+\n",
      "\n"
     ]
    }
   ],
   "source": [
    "df2.show()"
   ]
  },
  {
   "cell_type": "markdown",
   "id": "3c71cd65-fec7-4cbd-8266-dec9243ac73c",
   "metadata": {},
   "source": [
    "# Read Single CSV File"
   ]
  },
  {
   "cell_type": "code",
   "execution_count": 57,
   "id": "df7e11ed-d9cf-44c9-8c41-751c4cf0e086",
   "metadata": {},
   "outputs": [
    {
     "ename": "ModuleNotFoundError",
     "evalue": "No module named 'java'",
     "output_type": "error",
     "traceback": [
      "\u001b[0;31m---------------------------------------------------------------------------\u001b[0m",
      "\u001b[0;31mModuleNotFoundError\u001b[0m                       Traceback (most recent call last)",
      "Cell \u001b[0;32mIn[57], line 1\u001b[0m\n\u001b[0;32m----> 1\u001b[0m \u001b[38;5;28;01mimport\u001b[39;00m \u001b[38;5;21;01mjava\u001b[39;00m\u001b[38;5;21;01m.\u001b[39;00m\u001b[38;5;21;01mnio\u001b[39;00m\u001b[38;5;21;01m.\u001b[39;00m\u001b[38;5;21;01mfile\u001b[39;00m\u001b[38;5;21;01m.\u001b[39;00m\u001b[38;5;21;01mPath\u001b[39;00m;\n\u001b[1;32m      2\u001b[0m \u001b[38;5;28;01mimport\u001b[39;00m \u001b[38;5;21;01mjava\u001b[39;00m\u001b[38;5;21;01m.\u001b[39;00m\u001b[38;5;21;01mnio\u001b[39;00m\u001b[38;5;21;01m.\u001b[39;00m\u001b[38;5;21;01mfile\u001b[39;00m\u001b[38;5;21;01m.\u001b[39;00m\u001b[38;5;21;01mPaths\u001b[39;00m;\n\u001b[1;32m      4\u001b[0m Pathpath \u001b[38;5;241m=\u001b[39m Paths\u001b[38;5;241m.\u001b[39mget(\u001b[38;5;124m\"\u001b[39m\u001b[38;5;124mC:/Users/user/Downloads/s\u001b[39m\u001b[38;5;124m\"\u001b[39m);\n",
      "\u001b[0;31mModuleNotFoundError\u001b[0m: No module named 'java'"
     ]
    }
   ],
   "source": [
    "import java.nio.file.Path;\n",
    "import java.nio.file.Paths;\n",
    "\n",
    "Pathpath = Paths.get(\"C:/Users/user/Downloads/s\");\n"
   ]
  },
  {
   "cell_type": "code",
   "execution_count": 51,
   "id": "56b813b3-92af-4f6b-9d56-320af527eff2",
   "metadata": {},
   "outputs": [],
   "source": [
    "csv_path = \"C:/Users/user/Downloads/s\""
   ]
  },
  {
   "cell_type": "code",
   "execution_count": null,
   "id": "975bc55d-9c42-4cd0-9cf9-05d65422a64e",
   "metadata": {},
   "outputs": [],
   "source": []
  },
  {
   "cell_type": "code",
   "execution_count": null,
   "id": "f1d35f4c-9c57-4893-a3d7-90b9c87c7515",
   "metadata": {},
   "outputs": [],
   "source": []
  }
 ],
 "metadata": {
  "kernelspec": {
   "display_name": "Python 3 (ipykernel)",
   "language": "python",
   "name": "python3"
  },
  "language_info": {
   "codemirror_mode": {
    "name": "ipython",
    "version": 3
   },
   "file_extension": ".py",
   "mimetype": "text/x-python",
   "name": "python",
   "nbconvert_exporter": "python",
   "pygments_lexer": "ipython3",
   "version": "3.11.6"
  }
 },
 "nbformat": 4,
 "nbformat_minor": 5
}
